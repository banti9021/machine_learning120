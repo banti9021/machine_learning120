{
 "cells": [
  {
   "cell_type": "code",
   "execution_count": 1,
   "metadata": {},
   "outputs": [],
   "source": [
    "import pandas as pd\n",
    "import numpy as np\n",
    "import sklearn.datasets\n",
    "from sklearn.model_selection import train_test_split\n",
    "from xgboost import XGBRegressor\n",
    "from sklearn import metrics"
   ]
  },
  {
   "cell_type": "code",
   "execution_count": null,
   "metadata": {},
   "outputs": [],
   "source": []
  },
  {
   "cell_type": "code",
   "execution_count": 2,
   "metadata": {},
   "outputs": [],
   "source": [
    "df=pd.read_csv(\"house_price.csv\")"
   ]
  },
  {
   "cell_type": "code",
   "execution_count": 3,
   "metadata": {},
   "outputs": [
    {
     "name": "stdout",
     "output_type": "stream",
     "text": [
      "<class 'pandas.core.frame.DataFrame'>\n",
      "RangeIndex: 506 entries, 0 to 505\n",
      "Data columns (total 14 columns):\n",
      " #   Column   Non-Null Count  Dtype  \n",
      "---  ------   --------------  -----  \n",
      " 0   CRIM     506 non-null    float64\n",
      " 1   ZN       506 non-null    float64\n",
      " 2   INDUS    506 non-null    float64\n",
      " 3   CHAS     506 non-null    float64\n",
      " 4   NOX      506 non-null    float64\n",
      " 5   RM       506 non-null    float64\n",
      " 6   AGE      506 non-null    float64\n",
      " 7   DIS      506 non-null    float64\n",
      " 8   RAD      506 non-null    float64\n",
      " 9   TAX      506 non-null    float64\n",
      " 10  PTRATIO  506 non-null    float64\n",
      " 11  B        506 non-null    float64\n",
      " 12  LSTAT    506 non-null    float64\n",
      " 13  price    506 non-null    float64\n",
      "dtypes: float64(14)\n",
      "memory usage: 55.5 KB\n"
     ]
    }
   ],
   "source": [
    "df.info()"
   ]
  },
  {
   "cell_type": "code",
   "execution_count": 4,
   "metadata": {},
   "outputs": [
    {
     "data": {
      "text/html": [
       "<div>\n",
       "<style scoped>\n",
       "    .dataframe tbody tr th:only-of-type {\n",
       "        vertical-align: middle;\n",
       "    }\n",
       "\n",
       "    .dataframe tbody tr th {\n",
       "        vertical-align: top;\n",
       "    }\n",
       "\n",
       "    .dataframe thead th {\n",
       "        text-align: right;\n",
       "    }\n",
       "</style>\n",
       "<table border=\"1\" class=\"dataframe\">\n",
       "  <thead>\n",
       "    <tr style=\"text-align: right;\">\n",
       "      <th></th>\n",
       "      <th>CRIM</th>\n",
       "      <th>ZN</th>\n",
       "      <th>INDUS</th>\n",
       "      <th>CHAS</th>\n",
       "      <th>NOX</th>\n",
       "      <th>RM</th>\n",
       "      <th>AGE</th>\n",
       "      <th>DIS</th>\n",
       "      <th>RAD</th>\n",
       "      <th>TAX</th>\n",
       "      <th>PTRATIO</th>\n",
       "      <th>B</th>\n",
       "      <th>LSTAT</th>\n",
       "      <th>price</th>\n",
       "    </tr>\n",
       "  </thead>\n",
       "  <tbody>\n",
       "    <tr>\n",
       "      <th>0</th>\n",
       "      <td>0.00632</td>\n",
       "      <td>18.0</td>\n",
       "      <td>2.31</td>\n",
       "      <td>0.0</td>\n",
       "      <td>0.538</td>\n",
       "      <td>6.575</td>\n",
       "      <td>65.2</td>\n",
       "      <td>4.0900</td>\n",
       "      <td>1.0</td>\n",
       "      <td>296.0</td>\n",
       "      <td>15.3</td>\n",
       "      <td>396.90</td>\n",
       "      <td>4.98</td>\n",
       "      <td>24.0</td>\n",
       "    </tr>\n",
       "    <tr>\n",
       "      <th>1</th>\n",
       "      <td>0.02731</td>\n",
       "      <td>0.0</td>\n",
       "      <td>7.07</td>\n",
       "      <td>0.0</td>\n",
       "      <td>0.469</td>\n",
       "      <td>6.421</td>\n",
       "      <td>78.9</td>\n",
       "      <td>4.9671</td>\n",
       "      <td>2.0</td>\n",
       "      <td>242.0</td>\n",
       "      <td>17.8</td>\n",
       "      <td>396.90</td>\n",
       "      <td>9.14</td>\n",
       "      <td>21.6</td>\n",
       "    </tr>\n",
       "    <tr>\n",
       "      <th>2</th>\n",
       "      <td>0.02729</td>\n",
       "      <td>0.0</td>\n",
       "      <td>7.07</td>\n",
       "      <td>0.0</td>\n",
       "      <td>0.469</td>\n",
       "      <td>7.185</td>\n",
       "      <td>61.1</td>\n",
       "      <td>4.9671</td>\n",
       "      <td>2.0</td>\n",
       "      <td>242.0</td>\n",
       "      <td>17.8</td>\n",
       "      <td>392.83</td>\n",
       "      <td>4.03</td>\n",
       "      <td>34.7</td>\n",
       "    </tr>\n",
       "    <tr>\n",
       "      <th>3</th>\n",
       "      <td>0.03237</td>\n",
       "      <td>0.0</td>\n",
       "      <td>2.18</td>\n",
       "      <td>0.0</td>\n",
       "      <td>0.458</td>\n",
       "      <td>6.998</td>\n",
       "      <td>45.8</td>\n",
       "      <td>6.0622</td>\n",
       "      <td>3.0</td>\n",
       "      <td>222.0</td>\n",
       "      <td>18.7</td>\n",
       "      <td>394.63</td>\n",
       "      <td>2.94</td>\n",
       "      <td>33.4</td>\n",
       "    </tr>\n",
       "    <tr>\n",
       "      <th>4</th>\n",
       "      <td>0.06905</td>\n",
       "      <td>0.0</td>\n",
       "      <td>2.18</td>\n",
       "      <td>0.0</td>\n",
       "      <td>0.458</td>\n",
       "      <td>7.147</td>\n",
       "      <td>54.2</td>\n",
       "      <td>6.0622</td>\n",
       "      <td>3.0</td>\n",
       "      <td>222.0</td>\n",
       "      <td>18.7</td>\n",
       "      <td>396.90</td>\n",
       "      <td>5.33</td>\n",
       "      <td>36.2</td>\n",
       "    </tr>\n",
       "  </tbody>\n",
       "</table>\n",
       "</div>"
      ],
      "text/plain": [
       "      CRIM    ZN  INDUS  CHAS    NOX     RM   AGE     DIS  RAD    TAX  \\\n",
       "0  0.00632  18.0   2.31   0.0  0.538  6.575  65.2  4.0900  1.0  296.0   \n",
       "1  0.02731   0.0   7.07   0.0  0.469  6.421  78.9  4.9671  2.0  242.0   \n",
       "2  0.02729   0.0   7.07   0.0  0.469  7.185  61.1  4.9671  2.0  242.0   \n",
       "3  0.03237   0.0   2.18   0.0  0.458  6.998  45.8  6.0622  3.0  222.0   \n",
       "4  0.06905   0.0   2.18   0.0  0.458  7.147  54.2  6.0622  3.0  222.0   \n",
       "\n",
       "   PTRATIO       B  LSTAT  price  \n",
       "0     15.3  396.90   4.98   24.0  \n",
       "1     17.8  396.90   9.14   21.6  \n",
       "2     17.8  392.83   4.03   34.7  \n",
       "3     18.7  394.63   2.94   33.4  \n",
       "4     18.7  396.90   5.33   36.2  "
      ]
     },
     "execution_count": 4,
     "metadata": {},
     "output_type": "execute_result"
    }
   ],
   "source": [
    "df.head()"
   ]
  },
  {
   "cell_type": "code",
   "execution_count": 5,
   "metadata": {},
   "outputs": [],
   "source": [
    "X=df.drop(['price'],axis=1)\n",
    "y=df['price']"
   ]
  },
  {
   "cell_type": "code",
   "execution_count": 6,
   "metadata": {},
   "outputs": [],
   "source": [
    "X_train,X_test,y_train,y_test=train_test_split(X,y,test_size=0.2,random_state=2)"
   ]
  },
  {
   "cell_type": "code",
   "execution_count": 7,
   "metadata": {},
   "outputs": [],
   "source": [
    "model=XGBRegressor()"
   ]
  },
  {
   "cell_type": "code",
   "execution_count": 8,
   "metadata": {},
   "outputs": [
    {
     "data": {
      "text/html": [
       "<style>#sk-container-id-1 {color: black;}#sk-container-id-1 pre{padding: 0;}#sk-container-id-1 div.sk-toggleable {background-color: white;}#sk-container-id-1 label.sk-toggleable__label {cursor: pointer;display: block;width: 100%;margin-bottom: 0;padding: 0.3em;box-sizing: border-box;text-align: center;}#sk-container-id-1 label.sk-toggleable__label-arrow:before {content: \"▸\";float: left;margin-right: 0.25em;color: #696969;}#sk-container-id-1 label.sk-toggleable__label-arrow:hover:before {color: black;}#sk-container-id-1 div.sk-estimator:hover label.sk-toggleable__label-arrow:before {color: black;}#sk-container-id-1 div.sk-toggleable__content {max-height: 0;max-width: 0;overflow: hidden;text-align: left;background-color: #f0f8ff;}#sk-container-id-1 div.sk-toggleable__content pre {margin: 0.2em;color: black;border-radius: 0.25em;background-color: #f0f8ff;}#sk-container-id-1 input.sk-toggleable__control:checked~div.sk-toggleable__content {max-height: 200px;max-width: 100%;overflow: auto;}#sk-container-id-1 input.sk-toggleable__control:checked~label.sk-toggleable__label-arrow:before {content: \"▾\";}#sk-container-id-1 div.sk-estimator input.sk-toggleable__control:checked~label.sk-toggleable__label {background-color: #d4ebff;}#sk-container-id-1 div.sk-label input.sk-toggleable__control:checked~label.sk-toggleable__label {background-color: #d4ebff;}#sk-container-id-1 input.sk-hidden--visually {border: 0;clip: rect(1px 1px 1px 1px);clip: rect(1px, 1px, 1px, 1px);height: 1px;margin: -1px;overflow: hidden;padding: 0;position: absolute;width: 1px;}#sk-container-id-1 div.sk-estimator {font-family: monospace;background-color: #f0f8ff;border: 1px dotted black;border-radius: 0.25em;box-sizing: border-box;margin-bottom: 0.5em;}#sk-container-id-1 div.sk-estimator:hover {background-color: #d4ebff;}#sk-container-id-1 div.sk-parallel-item::after {content: \"\";width: 100%;border-bottom: 1px solid gray;flex-grow: 1;}#sk-container-id-1 div.sk-label:hover label.sk-toggleable__label {background-color: #d4ebff;}#sk-container-id-1 div.sk-serial::before {content: \"\";position: absolute;border-left: 1px solid gray;box-sizing: border-box;top: 0;bottom: 0;left: 50%;z-index: 0;}#sk-container-id-1 div.sk-serial {display: flex;flex-direction: column;align-items: center;background-color: white;padding-right: 0.2em;padding-left: 0.2em;position: relative;}#sk-container-id-1 div.sk-item {position: relative;z-index: 1;}#sk-container-id-1 div.sk-parallel {display: flex;align-items: stretch;justify-content: center;background-color: white;position: relative;}#sk-container-id-1 div.sk-item::before, #sk-container-id-1 div.sk-parallel-item::before {content: \"\";position: absolute;border-left: 1px solid gray;box-sizing: border-box;top: 0;bottom: 0;left: 50%;z-index: -1;}#sk-container-id-1 div.sk-parallel-item {display: flex;flex-direction: column;z-index: 1;position: relative;background-color: white;}#sk-container-id-1 div.sk-parallel-item:first-child::after {align-self: flex-end;width: 50%;}#sk-container-id-1 div.sk-parallel-item:last-child::after {align-self: flex-start;width: 50%;}#sk-container-id-1 div.sk-parallel-item:only-child::after {width: 0;}#sk-container-id-1 div.sk-dashed-wrapped {border: 1px dashed gray;margin: 0 0.4em 0.5em 0.4em;box-sizing: border-box;padding-bottom: 0.4em;background-color: white;}#sk-container-id-1 div.sk-label label {font-family: monospace;font-weight: bold;display: inline-block;line-height: 1.2em;}#sk-container-id-1 div.sk-label-container {text-align: center;}#sk-container-id-1 div.sk-container {/* jupyter's `normalize.less` sets `[hidden] { display: none; }` but bootstrap.min.css set `[hidden] { display: none !important; }` so we also need the `!important` here to be able to override the default hidden behavior on the sphinx rendered scikit-learn.org. See: https://github.com/scikit-learn/scikit-learn/issues/21755 */display: inline-block !important;position: relative;}#sk-container-id-1 div.sk-text-repr-fallback {display: none;}</style><div id=\"sk-container-id-1\" class=\"sk-top-container\"><div class=\"sk-text-repr-fallback\"><pre>XGBRegressor(base_score=None, booster=None, callbacks=None,\n",
       "             colsample_bylevel=None, colsample_bynode=None,\n",
       "             colsample_bytree=None, device=None, early_stopping_rounds=None,\n",
       "             enable_categorical=False, eval_metric=None, feature_types=None,\n",
       "             gamma=None, grow_policy=None, importance_type=None,\n",
       "             interaction_constraints=None, learning_rate=None, max_bin=None,\n",
       "             max_cat_threshold=None, max_cat_to_onehot=None,\n",
       "             max_delta_step=None, max_depth=None, max_leaves=None,\n",
       "             min_child_weight=None, missing=nan, monotone_constraints=None,\n",
       "             multi_strategy=None, n_estimators=None, n_jobs=None,\n",
       "             num_parallel_tree=None, random_state=None, ...)</pre><b>In a Jupyter environment, please rerun this cell to show the HTML representation or trust the notebook. <br />On GitHub, the HTML representation is unable to render, please try loading this page with nbviewer.org.</b></div><div class=\"sk-container\" hidden><div class=\"sk-item\"><div class=\"sk-estimator sk-toggleable\"><input class=\"sk-toggleable__control sk-hidden--visually\" id=\"sk-estimator-id-1\" type=\"checkbox\" checked><label for=\"sk-estimator-id-1\" class=\"sk-toggleable__label sk-toggleable__label-arrow\">XGBRegressor</label><div class=\"sk-toggleable__content\"><pre>XGBRegressor(base_score=None, booster=None, callbacks=None,\n",
       "             colsample_bylevel=None, colsample_bynode=None,\n",
       "             colsample_bytree=None, device=None, early_stopping_rounds=None,\n",
       "             enable_categorical=False, eval_metric=None, feature_types=None,\n",
       "             gamma=None, grow_policy=None, importance_type=None,\n",
       "             interaction_constraints=None, learning_rate=None, max_bin=None,\n",
       "             max_cat_threshold=None, max_cat_to_onehot=None,\n",
       "             max_delta_step=None, max_depth=None, max_leaves=None,\n",
       "             min_child_weight=None, missing=nan, monotone_constraints=None,\n",
       "             multi_strategy=None, n_estimators=None, n_jobs=None,\n",
       "             num_parallel_tree=None, random_state=None, ...)</pre></div></div></div></div></div>"
      ],
      "text/plain": [
       "XGBRegressor(base_score=None, booster=None, callbacks=None,\n",
       "             colsample_bylevel=None, colsample_bynode=None,\n",
       "             colsample_bytree=None, device=None, early_stopping_rounds=None,\n",
       "             enable_categorical=False, eval_metric=None, feature_types=None,\n",
       "             gamma=None, grow_policy=None, importance_type=None,\n",
       "             interaction_constraints=None, learning_rate=None, max_bin=None,\n",
       "             max_cat_threshold=None, max_cat_to_onehot=None,\n",
       "             max_delta_step=None, max_depth=None, max_leaves=None,\n",
       "             min_child_weight=None, missing=nan, monotone_constraints=None,\n",
       "             multi_strategy=None, n_estimators=None, n_jobs=None,\n",
       "             num_parallel_tree=None, random_state=None, ...)"
      ]
     },
     "execution_count": 8,
     "metadata": {},
     "output_type": "execute_result"
    }
   ],
   "source": [
    "model.fit(X_train,y_train)"
   ]
  },
  {
   "cell_type": "code",
   "execution_count": 9,
   "metadata": {},
   "outputs": [],
   "source": [
    "trainig_data_prediction=model.predict(X_train)"
   ]
  },
  {
   "cell_type": "code",
   "execution_count": 10,
   "metadata": {},
   "outputs": [
    {
     "data": {
      "text/plain": [
       "array([23.112196 , 20.992601 , 20.10438  , 34.67932  , 13.920501 ,\n",
       "       13.499354 , 21.998383 , 15.206723 , 10.89543  , 22.67402  ,\n",
       "       13.795236 ,  5.602332 , 29.808502 , 49.98666  , 34.89634  ,\n",
       "       20.594336 , 23.388903 , 19.2118   , 32.69294  , 19.604128 ,\n",
       "       26.978151 ,  8.405952 , 46.00062  , 21.70406  , 27.084402 ,\n",
       "       19.372278 , 19.297894 , 24.79984  , 22.608278 , 31.707775 ,\n",
       "       18.53683  ,  8.703393 , 17.40025  , 23.698814 , 13.29729  ,\n",
       "       10.504759 , 12.693588 , 24.994888 , 19.694864 , 14.911037 ,\n",
       "       24.20254  , 24.991112 , 14.901547 , 16.987965 , 15.592753 ,\n",
       "       12.704759 , 24.505623 , 15.007718 , 49.999355 , 17.509344 ,\n",
       "       21.18844  , 31.999287 , 15.606071 , 22.902134 , 19.309835 ,\n",
       "       18.697083 , 23.302961 , 37.19767  , 30.102247 , 33.117855 ,\n",
       "       20.993683 , 50.00471  , 13.40048  ,  5.002565 , 16.50862  ,\n",
       "        8.4016905, 28.651423 , 19.49218  , 20.595366 , 45.404697 ,\n",
       "       39.808857 , 33.4055   , 19.81498  , 33.406376 , 25.30206  ,\n",
       "       49.998615 , 12.544487 , 17.433802 , 18.602612 , 22.601418 ,\n",
       "       50.004013 , 23.814182 , 23.313164 , 23.097467 , 41.71243  ,\n",
       "       16.112017 , 31.604454 , 36.09397  ,  7.0009975, 20.406271 ,\n",
       "       19.992195 , 12.003392 , 25.027754 , 49.98552  , 37.890903 ,\n",
       "       23.091173 , 41.289513 , 17.604618 , 16.30125  , 30.05175  ,\n",
       "       22.884857 , 19.802671 , 17.106977 , 18.903633 , 18.897047 ,\n",
       "       22.598665 , 23.170893 , 33.19197  , 15.00434  , 11.704804 ,\n",
       "       18.795511 , 20.817484 , 17.998543 , 19.633396 , 49.998672 ,\n",
       "       17.208574 , 16.410513 , 17.506626 , 14.6008   , 33.09849  ,\n",
       "       14.504811 , 43.813366 , 34.900055 , 20.388191 , 14.605566 ,\n",
       "        8.091776 , 11.777508 , 11.811628 , 18.691    ,  6.322443 ,\n",
       "       23.97163  , 13.073076 , 19.595    , 49.99033  , 22.319597 ,\n",
       "       18.91175  , 31.203646 , 20.712711 , 32.200443 , 36.188755 ,\n",
       "       14.222898 , 15.705663 , 50.000664 , 20.408077 , 16.185907 ,\n",
       "       13.410434 , 50.012474 , 31.60327  , 12.288182 , 19.18906  ,\n",
       "       29.809902 , 31.49241  , 22.804003 , 10.194443 , 24.09609  ,\n",
       "       23.705154 , 22.008154 , 13.790835 , 28.399841 , 33.199585 ,\n",
       "       13.102867 , 19.017357 , 26.61559  , 36.963135 , 30.7939   ,\n",
       "       22.80785  , 10.206419 , 22.19713  , 24.482466 , 36.19345  ,\n",
       "       23.092129 , 20.12124  , 19.498154 , 10.796299 , 22.701403 ,\n",
       "       19.49908  , 20.107922 ,  9.625605 , 42.797676 , 48.79655  ,\n",
       "       13.099009 , 20.29537  , 24.794712 , 14.106459 , 21.698246 ,\n",
       "       22.188694 , 32.99889  , 21.09952  , 24.998121 , 19.110165 ,\n",
       "       32.401157 , 13.601795 , 15.072056 , 23.06062  , 27.487326 ,\n",
       "       19.401924 , 26.481848 , 27.50343  , 28.686726 , 21.19214  ,\n",
       "       18.701029 , 26.7093   , 14.01264  , 21.699009 , 18.39739  ,\n",
       "       43.11556  , 29.09378  , 20.298742 , 23.711458 , 18.30434  ,\n",
       "       17.193619 , 18.321108 , 24.392206 , 26.391497 , 19.10248  ,\n",
       "       13.302614 , 22.189732 , 22.199099 ,  8.530714 , 18.889635 ,\n",
       "       21.800455 , 19.305798 , 18.198288 ,  7.4938145, 22.400797 ,\n",
       "       20.028303 , 14.404203 , 22.500402 , 28.504164 , 21.608568 ,\n",
       "       13.798578 , 20.495127 , 21.902288 , 23.100073 , 50.00128  ,\n",
       "       16.23443  , 30.298399 , 49.996014 , 17.78638  , 19.060133 ,\n",
       "       10.39715  , 20.383387 , 16.496948 , 17.195917 , 16.681927 ,\n",
       "       19.509869 , 30.502445 , 29.01701  , 19.558786 , 23.172018 ,\n",
       "       24.397314 ,  9.528121 , 23.894762 , 49.996834 , 21.196695 ,\n",
       "       22.596247 , 19.989746 , 13.393513 , 19.995872 , 17.068512 ,\n",
       "       12.718964 , 23.01111  , 15.199219 , 20.609226 , 26.19055  ,\n",
       "       18.109114 , 24.098877 , 14.100204 , 21.695303 , 20.096022 ,\n",
       "       25.018776 , 27.899471 , 22.918222 , 18.499252 , 22.202477 ,\n",
       "       23.99494  , 14.8048935, 19.896328 , 24.411158 , 17.790047 ,\n",
       "       24.596226 , 32.007046 , 17.778685 , 23.309103 , 16.120615 ,\n",
       "       13.003008 , 10.993355 , 24.306978 , 15.597863 , 35.20248  ,\n",
       "       19.58716  , 42.29605  ,  8.789314 , 24.399925 , 14.109244 ,\n",
       "       15.4010315, 17.299047 , 22.113592 , 23.106049 , 44.805172 ,\n",
       "       17.795519 , 31.499706 , 22.813938 , 16.836212 , 23.911596 ,\n",
       "       12.09551  , 38.69628  , 21.387049 , 16.001123 , 23.929094 ,\n",
       "       11.897898 , 24.983562 ,  7.1969633, 24.69086  , 18.187803 ,\n",
       "       22.471941 , 23.013317 , 24.295506 , 17.099222 , 17.796907 ,\n",
       "       13.503164 , 27.094381 , 13.296886 , 21.90404  , 19.99361  ,\n",
       "       15.402385 , 16.588629 , 22.29326  , 24.697983 , 21.428938 ,\n",
       "       22.882269 , 29.601665 , 21.881992 , 19.908726 , 29.60596  ,\n",
       "       23.408524 , 13.807421 , 24.499699 , 11.901903 ,  7.20547  ,\n",
       "       20.484905 ,  9.706262 , 48.301437 , 25.194635 , 11.691466 ,\n",
       "       17.39672  , 14.49594  , 28.584557 , 19.395731 , 22.486904 ,\n",
       "        7.0219784, 20.60076  , 22.998001 , 19.699215 , 23.700571 ,\n",
       "       25.02278  , 27.992222 , 13.39496  , 14.524017 , 20.30391  ,\n",
       "       19.304321 , 24.108646 , 14.88511  , 26.387497 , 33.31608  ,\n",
       "       23.61982  , 24.60193  , 18.494753 , 20.90211  , 10.411172 ,\n",
       "       23.305649 , 13.097067 , 24.699335 , 22.610847 , 20.50208  ,\n",
       "       16.82098  , 10.198874 , 33.805454 , 18.60289  , 50.0009   ,\n",
       "       23.778967 , 23.91014  , 21.15922  , 18.81689  ,  8.491747 ,\n",
       "       21.506403 , 23.200815 , 21.043766 , 16.604784 , 28.060492 ,\n",
       "       21.197857 , 28.370916 , 14.2918625, 49.997353 , 30.989647 ,\n",
       "       24.980095 , 21.410505 , 19.000553 , 29.00484  , 15.204052 ,\n",
       "       22.791481 , 21.791014 , 19.896528 , 23.77255  ], dtype=float32)"
      ]
     },
     "execution_count": 10,
     "metadata": {},
     "output_type": "execute_result"
    }
   ],
   "source": [
    "trainig_data_prediction\n"
   ]
  },
  {
   "cell_type": "code",
   "execution_count": 11,
   "metadata": {},
   "outputs": [
    {
     "name": "stdout",
     "output_type": "stream",
     "text": [
      "r squared error 0.9999980039471451\n",
      "mean squared error 0.0091330346494618\n"
     ]
    }
   ],
   "source": [
    "score1=metrics.r2_score(y_train,trainig_data_prediction)\n",
    "score2=metrics.mean_absolute_error(y_train,trainig_data_prediction)\n",
    "print(\"r squared error\",score1)\n",
    "print('mean squared error',score2)"
   ]
  },
  {
   "cell_type": "code",
   "execution_count": 12,
   "metadata": {},
   "outputs": [
    {
     "name": "stdout",
     "output_type": "stream",
     "text": [
      "r squared error 0.9051721149855378\n",
      "mean squared error 2.0748727686264927\n"
     ]
    }
   ],
   "source": [
    "test_data_predict=model.predict(X_test)\n",
    "score1=metrics.r2_score(y_test,test_data_predict)\n",
    "score2=metrics.mean_absolute_error(y_test,test_data_predict)\n",
    "print(\"r squared error\",score1)\n",
    "print('mean squared error',score2)"
   ]
  },
  {
   "cell_type": "code",
   "execution_count": null,
   "metadata": {},
   "outputs": [],
   "source": []
  }
 ],
 "metadata": {
  "kernelspec": {
   "display_name": "vivek321",
   "language": "python",
   "name": "python3"
  },
  "language_info": {
   "codemirror_mode": {
    "name": "ipython",
    "version": 3
   },
   "file_extension": ".py",
   "mimetype": "text/x-python",
   "name": "python",
   "nbconvert_exporter": "python",
   "pygments_lexer": "ipython3",
   "version": "3.8.19"
  }
 },
 "nbformat": 4,
 "nbformat_minor": 2
}
